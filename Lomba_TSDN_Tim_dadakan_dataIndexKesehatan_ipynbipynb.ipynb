{
  "nbformat": 4,
  "nbformat_minor": 0,
  "metadata": {
    "colab": {
      "name": "Lomba TSDN_Tim dadakan_dataIndexKesehatan.ipynbipynb",
      "provenance": [],
      "collapsed_sections": [],
      "authorship_tag": "ABX9TyO47jVJ2OXnOybO3Utvhua/"
    },
    "kernelspec": {
      "name": "python3",
      "display_name": "Python 3"
    },
    "language_info": {
      "name": "python"
    }
  },
  "cells": [
    {
      "cell_type": "code",
      "metadata": {
        "id": "SCg4tAwu63Oy"
      },
      "source": [
        ""
      ],
      "execution_count": null,
      "outputs": []
    },
    {
      "cell_type": "markdown",
      "metadata": {
        "id": "7zDMOQWGg1Bz"
      },
      "source": [
        "# **LOAD LIBRARY PYTHON**\n"
      ]
    },
    {
      "cell_type": "code",
      "metadata": {
        "id": "FGgYE2s1ePjF"
      },
      "source": [
        "import pandas as pd\n",
        "import matplotlib.pyplot as plt\n",
        "import numpy as np\n",
        "import seaborn as sns\n",
        "from sklearn.model_selection import train_test_split\n",
        "from sklearn.linear_model import LinearRegression"
      ],
      "execution_count": null,
      "outputs": []
    },
    {
      "cell_type": "markdown",
      "metadata": {
        "id": "BiAA623p1q0B"
      },
      "source": [
        "# **LOAD DATASET**"
      ]
    },
    {
      "cell_type": "markdown",
      "metadata": {
        "id": "4sMc0pGk5QPp"
      },
      "source": [
        "kita ubah kolom tangggal menjadi index colom untuk format waktu, agar mudah untuk dimanipulasi"
      ]
    },
    {
      "cell_type": "code",
      "metadata": {
        "colab": {
          "base_uri": "https://localhost:8080/",
          "height": 202
        },
        "id": "v80nJLItgLxq",
        "outputId": "2f74118d-de15-4fc0-dbaa-cec6cfd13672"
      },
      "source": [
        "url = '/content/bps-od_17517_indeks_kesehatan_berdasarkan_kabupatenkota_data.csv'\n",
        "df = pd.read_csv(url)\n",
        "df.head()"
      ],
      "execution_count": null,
      "outputs": [
        {
          "output_type": "execute_result",
          "data": {
            "text/html": [
              "<div>\n",
              "<style scoped>\n",
              "    .dataframe tbody tr th:only-of-type {\n",
              "        vertical-align: middle;\n",
              "    }\n",
              "\n",
              "    .dataframe tbody tr th {\n",
              "        vertical-align: top;\n",
              "    }\n",
              "\n",
              "    .dataframe thead th {\n",
              "        text-align: right;\n",
              "    }\n",
              "</style>\n",
              "<table border=\"1\" class=\"dataframe\">\n",
              "  <thead>\n",
              "    <tr style=\"text-align: right;\">\n",
              "      <th></th>\n",
              "      <th>id</th>\n",
              "      <th>kode_provinsi</th>\n",
              "      <th>nama_provinsi</th>\n",
              "      <th>kode_kabupaten_kota</th>\n",
              "      <th>nama_kabupaten_kota</th>\n",
              "      <th>indeks_kesehatan</th>\n",
              "      <th>satuan</th>\n",
              "      <th>tahun</th>\n",
              "    </tr>\n",
              "  </thead>\n",
              "  <tbody>\n",
              "    <tr>\n",
              "      <th>0</th>\n",
              "      <td>1</td>\n",
              "      <td>32</td>\n",
              "      <td>JAWA BARAT</td>\n",
              "      <td>3201</td>\n",
              "      <td>KABUPATEN BOGOR</td>\n",
              "      <td>77.43</td>\n",
              "      <td>POIN</td>\n",
              "      <td>2010</td>\n",
              "    </tr>\n",
              "    <tr>\n",
              "      <th>1</th>\n",
              "      <td>2</td>\n",
              "      <td>32</td>\n",
              "      <td>JAWA BARAT</td>\n",
              "      <td>3202</td>\n",
              "      <td>KABUPATEN SUKABUMI</td>\n",
              "      <td>76.10</td>\n",
              "      <td>POIN</td>\n",
              "      <td>2010</td>\n",
              "    </tr>\n",
              "    <tr>\n",
              "      <th>2</th>\n",
              "      <td>3</td>\n",
              "      <td>32</td>\n",
              "      <td>JAWA BARAT</td>\n",
              "      <td>3203</td>\n",
              "      <td>KABUPATEN CIANJUR</td>\n",
              "      <td>75.02</td>\n",
              "      <td>POIN</td>\n",
              "      <td>2010</td>\n",
              "    </tr>\n",
              "    <tr>\n",
              "      <th>3</th>\n",
              "      <td>4</td>\n",
              "      <td>32</td>\n",
              "      <td>JAWA BARAT</td>\n",
              "      <td>3204</td>\n",
              "      <td>KABUPATEN BANDUNG</td>\n",
              "      <td>81.44</td>\n",
              "      <td>POIN</td>\n",
              "      <td>2010</td>\n",
              "    </tr>\n",
              "    <tr>\n",
              "      <th>4</th>\n",
              "      <td>5</td>\n",
              "      <td>32</td>\n",
              "      <td>JAWA BARAT</td>\n",
              "      <td>3205</td>\n",
              "      <td>KABUPATEN GARUT</td>\n",
              "      <td>77.44</td>\n",
              "      <td>POIN</td>\n",
              "      <td>2010</td>\n",
              "    </tr>\n",
              "  </tbody>\n",
              "</table>\n",
              "</div>"
            ],
            "text/plain": [
              "   id  kode_provinsi nama_provinsi  ...  indeks_kesehatan satuan  tahun\n",
              "0   1             32    JAWA BARAT  ...             77.43   POIN   2010\n",
              "1   2             32    JAWA BARAT  ...             76.10   POIN   2010\n",
              "2   3             32    JAWA BARAT  ...             75.02   POIN   2010\n",
              "3   4             32    JAWA BARAT  ...             81.44   POIN   2010\n",
              "4   5             32    JAWA BARAT  ...             77.44   POIN   2010\n",
              "\n",
              "[5 rows x 8 columns]"
            ]
          },
          "metadata": {},
          "execution_count": 2
        }
      ]
    },
    {
      "cell_type": "code",
      "metadata": {
        "colab": {
          "base_uri": "https://localhost:8080/",
          "height": 202
        },
        "id": "srTFckqO7WeM",
        "outputId": "a64cf094-a8fd-4103-954e-ab6743bd93a9"
      },
      "source": [
        "url = '/content/bps-od_17517_indeks_kesehatan_berdasarkan_kabupatenkota_data.csv'\n",
        "df_model = pd.read_csv(url, usecols=['nama_kabupaten_kota','indeks_kesehatan','tahun'])\n",
        "df_model.head()"
      ],
      "execution_count": null,
      "outputs": [
        {
          "output_type": "execute_result",
          "data": {
            "text/html": [
              "<div>\n",
              "<style scoped>\n",
              "    .dataframe tbody tr th:only-of-type {\n",
              "        vertical-align: middle;\n",
              "    }\n",
              "\n",
              "    .dataframe tbody tr th {\n",
              "        vertical-align: top;\n",
              "    }\n",
              "\n",
              "    .dataframe thead th {\n",
              "        text-align: right;\n",
              "    }\n",
              "</style>\n",
              "<table border=\"1\" class=\"dataframe\">\n",
              "  <thead>\n",
              "    <tr style=\"text-align: right;\">\n",
              "      <th></th>\n",
              "      <th>nama_kabupaten_kota</th>\n",
              "      <th>indeks_kesehatan</th>\n",
              "      <th>tahun</th>\n",
              "    </tr>\n",
              "  </thead>\n",
              "  <tbody>\n",
              "    <tr>\n",
              "      <th>0</th>\n",
              "      <td>KABUPATEN BOGOR</td>\n",
              "      <td>77.43</td>\n",
              "      <td>2010</td>\n",
              "    </tr>\n",
              "    <tr>\n",
              "      <th>1</th>\n",
              "      <td>KABUPATEN SUKABUMI</td>\n",
              "      <td>76.10</td>\n",
              "      <td>2010</td>\n",
              "    </tr>\n",
              "    <tr>\n",
              "      <th>2</th>\n",
              "      <td>KABUPATEN CIANJUR</td>\n",
              "      <td>75.02</td>\n",
              "      <td>2010</td>\n",
              "    </tr>\n",
              "    <tr>\n",
              "      <th>3</th>\n",
              "      <td>KABUPATEN BANDUNG</td>\n",
              "      <td>81.44</td>\n",
              "      <td>2010</td>\n",
              "    </tr>\n",
              "    <tr>\n",
              "      <th>4</th>\n",
              "      <td>KABUPATEN GARUT</td>\n",
              "      <td>77.44</td>\n",
              "      <td>2010</td>\n",
              "    </tr>\n",
              "  </tbody>\n",
              "</table>\n",
              "</div>"
            ],
            "text/plain": [
              "  nama_kabupaten_kota  indeks_kesehatan  tahun\n",
              "0     KABUPATEN BOGOR             77.43   2010\n",
              "1  KABUPATEN SUKABUMI             76.10   2010\n",
              "2   KABUPATEN CIANJUR             75.02   2010\n",
              "3   KABUPATEN BANDUNG             81.44   2010\n",
              "4     KABUPATEN GARUT             77.44   2010"
            ]
          },
          "metadata": {},
          "execution_count": 7
        }
      ]
    },
    {
      "cell_type": "code",
      "metadata": {
        "id": "fPJiLemi7tmH"
      },
      "source": [
        ""
      ],
      "execution_count": null,
      "outputs": []
    },
    {
      "cell_type": "markdown",
      "metadata": {
        "id": "_qke_OOSIJJo"
      },
      "source": [
        "# **DATA EXPLORING**"
      ]
    },
    {
      "cell_type": "code",
      "metadata": {
        "colab": {
          "base_uri": "https://localhost:8080/",
          "height": 334
        },
        "id": "avqP-YAbAKVs",
        "outputId": "ce86c72b-52ff-4de4-9d72-93095376f630"
      },
      "source": [
        "#melihat univariate kolom tahun\n",
        "\n",
        "sns.countplot(df.tahun)\n",
        "plt.show()"
      ],
      "execution_count": null,
      "outputs": [
        {
          "output_type": "stream",
          "name": "stderr",
          "text": [
            "/usr/local/lib/python3.7/dist-packages/seaborn/_decorators.py:43: FutureWarning: Pass the following variable as a keyword arg: x. From version 0.12, the only valid positional argument will be `data`, and passing other arguments without an explicit keyword will result in an error or misinterpretation.\n",
            "  FutureWarning\n"
          ]
        },
        {
          "output_type": "display_data",
          "data": {
            "image/png": "[encoded data removed]",
            "text/plain": [
              "<Figure size 432x288 with 1 Axes>"
            ]
          },
          "metadata": {
            "needs_background": "light"
          }
        }
      ]
    },
    {
      "cell_type": "code",
      "metadata": {
        "id": "UFF5LlQfROib"
      },
      "source": [
        "#mengelompokan dataset berdasarkan tanggal dan wilayah kota membuat multiple line chart\n",
        "plt.clf()\n",
        "df.groupby('tahun')['indeks_kesehatan'].unstack().plot()\n",
        "plt.title('Jumlah Vaksin Harian', loc='center', pad=30, fontsize=20,color='black')\n",
        "plt.xlabel('Tahun', fontsize=15)\n",
        "plt.ylabel('Index kesehatan', fontsize=15)\n",
        "plt.grid(color='darkgray', linestyle=':', linewidth=0.5)\n",
        "plt.ylim(ymin=0)\n",
        "plt.legend(loc='best', bbox_to_anchor=(0.5, -0.5), shadow=True, ncol=3,title='Wilayah Kota', fontsize=9, title_fontsize=11)\n",
        "plt.gcf().set_size_inches(10,5)\n",
        "plt.tight_layout()\n",
        "plt.show()"
      ],
      "execution_count": null,
      "outputs": []
    },
    {
      "cell_type": "code",
      "metadata": {
        "colab": {
          "base_uri": "https://localhost:8080/",
          "height": 232
        },
        "id": "uNf0t2AHgRlu",
        "outputId": "d48fbeb5-32ff-42e6-a388-94cee48070a6"
      },
      "source": [
        "#df baru bernama df_pekan4, yang menunjukan jumlah vaksin\n",
        "# di minggu ke 4\n",
        "\n",
        "df_jaktim_pekan4 = df[(df['wilayah_kota'] == 'JAKARTA TIMUR') & (df.index >= '2021-07-24')]\n",
        "\n",
        "df_jaktim_pekan4.head()"
      ],
      "execution_count": null,
      "outputs": [
        {
          "output_type": "execute_result",
          "data": {
            "text/html": [
              "<div>\n",
              "<style scoped>\n",
              "    .dataframe tbody tr th:only-of-type {\n",
              "        vertical-align: middle;\n",
              "    }\n",
              "\n",
              "    .dataframe tbody tr th {\n",
              "        vertical-align: top;\n",
              "    }\n",
              "\n",
              "    .dataframe thead th {\n",
              "        text-align: right;\n",
              "    }\n",
              "</style>\n",
              "<table border=\"1\" class=\"dataframe\">\n",
              "  <thead>\n",
              "    <tr style=\"text-align: right;\">\n",
              "      <th></th>\n",
              "      <th>wilayah_kota</th>\n",
              "      <th>kecamatan</th>\n",
              "      <th>kelurahan</th>\n",
              "      <th>dosis</th>\n",
              "      <th>jumlah_vaksin</th>\n",
              "    </tr>\n",
              "    <tr>\n",
              "      <th>tanggal</th>\n",
              "      <th></th>\n",
              "      <th></th>\n",
              "      <th></th>\n",
              "      <th></th>\n",
              "      <th></th>\n",
              "    </tr>\n",
              "  </thead>\n",
              "  <tbody>\n",
              "    <tr>\n",
              "      <th>2021-07-24</th>\n",
              "      <td>JAKARTA TIMUR</td>\n",
              "      <td>KRAMAT JATI</td>\n",
              "      <td>BALE KAMBANG</td>\n",
              "      <td>Dosis 1</td>\n",
              "      <td>157</td>\n",
              "    </tr>\n",
              "    <tr>\n",
              "      <th>2021-07-24</th>\n",
              "      <td>JAKARTA TIMUR</td>\n",
              "      <td>JATINEGARA</td>\n",
              "      <td>BALI MESTER</td>\n",
              "      <td>Dosis 1</td>\n",
              "      <td>71</td>\n",
              "    </tr>\n",
              "    <tr>\n",
              "      <th>2021-07-24</th>\n",
              "      <td>JAKARTA TIMUR</td>\n",
              "      <td>CIPAYUNG</td>\n",
              "      <td>BAMBU APUS</td>\n",
              "      <td>Dosis 1</td>\n",
              "      <td>116</td>\n",
              "    </tr>\n",
              "    <tr>\n",
              "      <th>2021-07-24</th>\n",
              "      <td>JAKARTA TIMUR</td>\n",
              "      <td>PASAR REBO</td>\n",
              "      <td>BARU</td>\n",
              "      <td>Dosis 1</td>\n",
              "      <td>109</td>\n",
              "    </tr>\n",
              "    <tr>\n",
              "      <th>2021-07-24</th>\n",
              "      <td>JAKARTA TIMUR</td>\n",
              "      <td>KRAMAT JATI</td>\n",
              "      <td>BATU AMPAR</td>\n",
              "      <td>Dosis 1</td>\n",
              "      <td>304</td>\n",
              "    </tr>\n",
              "  </tbody>\n",
              "</table>\n",
              "</div>"
            ],
            "text/plain": [
              "             wilayah_kota    kecamatan     kelurahan    dosis  jumlah_vaksin\n",
              "tanggal                                                                     \n",
              "2021-07-24  JAKARTA TIMUR  KRAMAT JATI  BALE KAMBANG  Dosis 1            157\n",
              "2021-07-24  JAKARTA TIMUR   JATINEGARA   BALI MESTER  Dosis 1             71\n",
              "2021-07-24  JAKARTA TIMUR     CIPAYUNG    BAMBU APUS  Dosis 1            116\n",
              "2021-07-24  JAKARTA TIMUR   PASAR REBO          BARU  Dosis 1            109\n",
              "2021-07-24  JAKARTA TIMUR  KRAMAT JATI    BATU AMPAR  Dosis 1            304"
            ]
          },
          "metadata": {},
          "execution_count": 14
        }
      ]
    },
    {
      "cell_type": "code",
      "metadata": {
        "colab": {
          "base_uri": "https://localhost:8080/",
          "height": 402
        },
        "id": "6q9ZtUxFgRpN",
        "outputId": "da25d034-bcbb-4ca0-dd5e-70f3812ea285"
      },
      "source": [
        "vaksin_jaktim_per_kecamatan = df_jaktim_pekan4.groupby('kecamatan')['jumlah_vaksin'].sum().reset_index()\n",
        "plt.figure(figsize=(6,6))\n",
        "plt.pie(vaksin_jaktim_per_kecamatan['jumlah_vaksin'], labels = vaksin_jaktim_per_kecamatan['kecamatan'], autopct='%1.2f%%')\n",
        "plt.title('Vaksin per Kecamatan di Jakarta Timur', loc='center', pad = 30, fontsize=20, color='black')\n",
        "plt.show()"
      ],
      "execution_count": null,
      "outputs": [
        {
          "output_type": "display_data",
          "data": {
            "image/png": "[encoded data removed]",
            "text/plain": [
              "<Figure size 432x432 with 1 Axes>"
            ]
          },
          "metadata": {}
        }
      ]
    },
    {
      "cell_type": "code",
      "metadata": {
        "colab": {
          "base_uri": "https://localhost:8080/",
          "height": 941
        },
        "id": "9yDrF2pfprxO",
        "outputId": "462c5a6e-b980-417a-9fcd-082446e01fe5"
      },
      "source": [
        "#Mengetahui nilai korelasi dari independent variable dan dependent variable.\n",
        "plt.figure(figsize=(18,16))\n",
        "sns.heatmap(df_copy.corr(method='spearman').abs(), annot=True)"
      ],
      "execution_count": null,
      "outputs": [
        {
          "output_type": "execute_result",
          "data": {
            "text/plain": [
              "<matplotlib.axes._subplots.AxesSubplot at 0x7f4b212e6410>"
            ]
          },
          "metadata": {},
          "execution_count": 16
        },
        {
          "output_type": "display_data",
          "data": {
            "image/png": "[encoded data removed]",
            "text/plain": [
              "<Figure size 1296x1152 with 2 Axes>"
            ]
          },
          "metadata": {
            "needs_background": "light"
          }
        }
      ]
    }
  ]
}