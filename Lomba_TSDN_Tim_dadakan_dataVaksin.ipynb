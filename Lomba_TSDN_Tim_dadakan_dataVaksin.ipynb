{
  "nbformat": 4,
  "nbformat_minor": 0,
  "metadata": {
    "colab": {
      "name": "Lomba TSDN_Tim dadakan_dataVaksin.ipynb",
      "provenance": [],
      "collapsed_sections": [],
      "mount_file_id": "1zEQ0qs6SoyBXgDwdKZK4rSekGVZXviis",
      "authorship_tag": "ABX9TyNScnywx3Ixiueps2GfQg6f",
      "include_colab_link": true
    },
    "kernelspec": {
      "name": "python3",
      "display_name": "Python 3"
    },
    "language_info": {
      "name": "python"
    }
  },
  "cells": [
    {
      "cell_type": "markdown",
      "metadata": {
        "id": "view-in-github",
        "colab_type": "text"
      },
      "source": [
        "<a href=\"https://colab.research.google.com/github/Nani0012/Lomba-Data-Analyst/blob/main/Lomba_TSDN_Tim_dadakan_dataVaksin.ipynb\" target=\"_parent\"><img src=\"https://colab.research.google.com/assets/colab-badge.svg\" alt=\"Open In Colab\"/></a>"
      ]
    },
    {
      "cell_type": "markdown",
      "metadata": {
        "id": "mgi18goc1Yjm"
      },
      "source": [
        "# **TAHAPAN**\n",
        "\n",
        "1. Data Selection\n",
        "2. Pre-processing/Cleaning\n",
        "3. Transformation\n",
        "4. Data Mining\n",
        "5. Evaluation\n",
        "\n",
        "\n",
        "Sumber data : https://drive.google.com/file/d/1hAXdXQAStHrEU2Ryn7DKVFKcVWvqaAw-/view?usp=sharing\n",
        "\n",
        "data source data academy"
      ]
    },
    {
      "cell_type": "markdown",
      "metadata": {
        "id": "7zDMOQWGg1Bz"
      },
      "source": [
        "# **LOAD LIBRARY PYTHON**\n"
      ]
    },
    {
      "cell_type": "code",
      "metadata": {
        "id": "FGgYE2s1ePjF"
      },
      "source": [
        "import pandas as pd\n",
        "import matplotlib.pyplot as plt\n",
        "import numpy as np\n",
        "import seaborn as sns\n",
        "from sklearn.model_selection import train_test_split\n",
        "from sklearn.linear_model import LinearRegression"
      ],
      "execution_count": null,
      "outputs": []
    },
    {
      "cell_type": "markdown",
      "metadata": {
        "id": "BiAA623p1q0B"
      },
      "source": [
        "# **LOAD DATASET**"
      ]
    },
    {
      "cell_type": "markdown",
      "metadata": {
        "id": "4sMc0pGk5QPp"
      },
      "source": [
        "kita ubah kolom tangggal menjadi index colom untuk format waktu, agar mudah untuk dimanipulasi"
      ]
    },
    {
      "cell_type": "code",
      "metadata": {
        "colab": {
          "base_uri": "https://localhost:8080/",
          "height": 237
        },
        "id": "v80nJLItgLxq",
        "outputId": "03bb6424-72be-4e5a-c010-83aca96e2e7d"
      },
      "source": [
        "url = '/content/drive/MyDrive/Orbit/data-jumlah-vaksinasi-gotong-royong-menurut-kelurahan-di-provinsi-dki-jakarta-bulan-juli-tahun-2021.csv'\n",
        "df = pd.read_csv(url, index_col='tanggal', usecols=['tanggal','wilayah_kota', 'kecamatan', 'kelurahan', 'dosis', 'jumlah_vaksin'])\n",
        "df.head()"
      ],
      "execution_count": null,
      "outputs": [
        {
          "output_type": "execute_result",
          "data": {
            "text/html": [
              "<div>\n",
              "<style scoped>\n",
              "    .dataframe tbody tr th:only-of-type {\n",
              "        vertical-align: middle;\n",
              "    }\n",
              "\n",
              "    .dataframe tbody tr th {\n",
              "        vertical-align: top;\n",
              "    }\n",
              "\n",
              "    .dataframe thead th {\n",
              "        text-align: right;\n",
              "    }\n",
              "</style>\n",
              "<table border=\"1\" class=\"dataframe\">\n",
              "  <thead>\n",
              "    <tr style=\"text-align: right;\">\n",
              "      <th></th>\n",
              "      <th>wilayah_kota</th>\n",
              "      <th>kecamatan</th>\n",
              "      <th>kelurahan</th>\n",
              "      <th>dosis</th>\n",
              "      <th>jumlah_vaksin</th>\n",
              "    </tr>\n",
              "    <tr>\n",
              "      <th>tanggal</th>\n",
              "      <th></th>\n",
              "      <th></th>\n",
              "      <th></th>\n",
              "      <th></th>\n",
              "      <th></th>\n",
              "    </tr>\n",
              "  </thead>\n",
              "  <tbody>\n",
              "    <tr>\n",
              "      <th>2021-07-01</th>\n",
              "      <td>JAKARTA PUSAT</td>\n",
              "      <td>TANAH ABANG</td>\n",
              "      <td>BENDUNGAN HILIR</td>\n",
              "      <td>Dosis 1</td>\n",
              "      <td>118</td>\n",
              "    </tr>\n",
              "    <tr>\n",
              "      <th>2021-07-01</th>\n",
              "      <td>JAKARTA PUSAT</td>\n",
              "      <td>SENEN</td>\n",
              "      <td>BUNGUR</td>\n",
              "      <td>Dosis 1</td>\n",
              "      <td>75</td>\n",
              "    </tr>\n",
              "    <tr>\n",
              "      <th>2021-07-01</th>\n",
              "      <td>JAKARTA PUSAT</td>\n",
              "      <td>KEMAYORAN</td>\n",
              "      <td>CEMPAKA BARU</td>\n",
              "      <td>Dosis 1</td>\n",
              "      <td>132</td>\n",
              "    </tr>\n",
              "    <tr>\n",
              "      <th>2021-07-01</th>\n",
              "      <td>JAKARTA PUSAT</td>\n",
              "      <td>CEMPAKA PUTIH</td>\n",
              "      <td>CEMPAKA PUTIH BARAT</td>\n",
              "      <td>Dosis 1</td>\n",
              "      <td>179</td>\n",
              "    </tr>\n",
              "    <tr>\n",
              "      <th>2021-07-01</th>\n",
              "      <td>JAKARTA PUSAT</td>\n",
              "      <td>CEMPAKA PUTIH</td>\n",
              "      <td>CEMPAKA PUTIH TIMUR</td>\n",
              "      <td>Dosis 1</td>\n",
              "      <td>127</td>\n",
              "    </tr>\n",
              "  </tbody>\n",
              "</table>\n",
              "</div>"
            ],
            "text/plain": [
              "             wilayah_kota      kecamatan  ...    dosis jumlah_vaksin\n",
              "tanggal                                   ...                       \n",
              "2021-07-01  JAKARTA PUSAT    TANAH ABANG  ...  Dosis 1           118\n",
              "2021-07-01  JAKARTA PUSAT          SENEN  ...  Dosis 1            75\n",
              "2021-07-01  JAKARTA PUSAT      KEMAYORAN  ...  Dosis 1           132\n",
              "2021-07-01  JAKARTA PUSAT  CEMPAKA PUTIH  ...  Dosis 1           179\n",
              "2021-07-01  JAKARTA PUSAT  CEMPAKA PUTIH  ...  Dosis 1           127\n",
              "\n",
              "[5 rows x 5 columns]"
            ]
          },
          "metadata": {},
          "execution_count": 4
        }
      ]
    },
    {
      "cell_type": "markdown",
      "metadata": {
        "id": "C3-Ls3GJ749d"
      },
      "source": [
        "# **PRE-PROCESSIING / CLEANING**"
      ]
    },
    {
      "cell_type": "code",
      "metadata": {
        "colab": {
          "base_uri": "https://localhost:8080/"
        },
        "id": "rAs6zHm51ypT",
        "outputId": "c7ac9322-eff8-437e-ca48-0ad0efce7d25"
      },
      "source": [
        "#Mengetahui jumlah kolom dan baris\n",
        "#terdapat 16020 baris dan 6 kolom, \n",
        "df.shape"
      ],
      "execution_count": null,
      "outputs": [
        {
          "output_type": "execute_result",
          "data": {
            "text/plain": [
              "(16020, 5)"
            ]
          },
          "metadata": {},
          "execution_count": 5
        }
      ]
    },
    {
      "cell_type": "code",
      "metadata": {
        "colab": {
          "base_uri": "https://localhost:8080/"
        },
        "id": "pkjhYQ7H5KMI",
        "outputId": "bd3cf206-37dd-4c6f-d709-fb44dd58adfb"
      },
      "source": [
        "#kita lakukan checking data\n",
        "df.isnull().sum()"
      ],
      "execution_count": null,
      "outputs": [
        {
          "output_type": "execute_result",
          "data": {
            "text/plain": [
              "wilayah_kota     0\n",
              "kecamatan        0\n",
              "kelurahan        0\n",
              "dosis            0\n",
              "jumlah_vaksin    0\n",
              "dtype: int64"
            ]
          },
          "metadata": {},
          "execution_count": 6
        }
      ]
    },
    {
      "cell_type": "code",
      "metadata": {
        "colab": {
          "base_uri": "https://localhost:8080/"
        },
        "id": "dutKtzJR2E3f",
        "outputId": "e68e9a6e-3f96-4184-d2dd-8a13d0057615"
      },
      "source": [
        "#Melihat informasi data, mulai dari jumlah data, tipe data, memory yang digunakan\n",
        "df.info()"
      ],
      "execution_count": null,
      "outputs": [
        {
          "output_type": "stream",
          "name": "stdout",
          "text": [
            "<class 'pandas.core.frame.DataFrame'>\n",
            "Index: 16020 entries, 2021-07-01 to 2021-07-31\n",
            "Data columns (total 5 columns):\n",
            " #   Column         Non-Null Count  Dtype \n",
            "---  ------         --------------  ----- \n",
            " 0   wilayah_kota   16020 non-null  object\n",
            " 1   kecamatan      16020 non-null  object\n",
            " 2   kelurahan      16020 non-null  object\n",
            " 3   dosis          16020 non-null  object\n",
            " 4   jumlah_vaksin  16020 non-null  int64 \n",
            "dtypes: int64(1), object(4)\n",
            "memory usage: 750.9+ KB\n"
          ]
        }
      ]
    },
    {
      "cell_type": "markdown",
      "metadata": {
        "id": "KCtaOylBsumS"
      },
      "source": [
        "dataset tersebut tidak mempunyai missing value didalamnya. untuk kolom yang masih ber tipe data selain numerik, kita harus mengubahnya terlebih dahulu"
      ]
    },
    {
      "cell_type": "code",
      "metadata": {
        "colab": {
          "base_uri": "https://localhost:8080/",
          "height": 206
        },
        "id": "qbT5yWP8PmbP",
        "outputId": "24ae89d1-deea-4938-c323-b091d36b2a3b"
      },
      "source": [
        "url = '/content/drive/MyDrive/Orbit/data-jumlah-vaksinasi-gotong-royong-menurut-kelurahan-di-provinsi-dki-jakarta-bulan-juli-tahun-2021.csv'\n",
        "df_copy = pd.read_csv(url, usecols=['wilayah_kota', 'kecamatan', 'kelurahan', 'dosis', 'jumlah_vaksin'])\n",
        "df_copy.head()"
      ],
      "execution_count": null,
      "outputs": [
        {
          "output_type": "execute_result",
          "data": {
            "text/html": [
              "<div>\n",
              "<style scoped>\n",
              "    .dataframe tbody tr th:only-of-type {\n",
              "        vertical-align: middle;\n",
              "    }\n",
              "\n",
              "    .dataframe tbody tr th {\n",
              "        vertical-align: top;\n",
              "    }\n",
              "\n",
              "    .dataframe thead th {\n",
              "        text-align: right;\n",
              "    }\n",
              "</style>\n",
              "<table border=\"1\" class=\"dataframe\">\n",
              "  <thead>\n",
              "    <tr style=\"text-align: right;\">\n",
              "      <th></th>\n",
              "      <th>wilayah_kota</th>\n",
              "      <th>kecamatan</th>\n",
              "      <th>kelurahan</th>\n",
              "      <th>dosis</th>\n",
              "      <th>jumlah_vaksin</th>\n",
              "    </tr>\n",
              "  </thead>\n",
              "  <tbody>\n",
              "    <tr>\n",
              "      <th>0</th>\n",
              "      <td>JAKARTA PUSAT</td>\n",
              "      <td>TANAH ABANG</td>\n",
              "      <td>BENDUNGAN HILIR</td>\n",
              "      <td>Dosis 1</td>\n",
              "      <td>118</td>\n",
              "    </tr>\n",
              "    <tr>\n",
              "      <th>1</th>\n",
              "      <td>JAKARTA PUSAT</td>\n",
              "      <td>SENEN</td>\n",
              "      <td>BUNGUR</td>\n",
              "      <td>Dosis 1</td>\n",
              "      <td>75</td>\n",
              "    </tr>\n",
              "    <tr>\n",
              "      <th>2</th>\n",
              "      <td>JAKARTA PUSAT</td>\n",
              "      <td>KEMAYORAN</td>\n",
              "      <td>CEMPAKA BARU</td>\n",
              "      <td>Dosis 1</td>\n",
              "      <td>132</td>\n",
              "    </tr>\n",
              "    <tr>\n",
              "      <th>3</th>\n",
              "      <td>JAKARTA PUSAT</td>\n",
              "      <td>CEMPAKA PUTIH</td>\n",
              "      <td>CEMPAKA PUTIH BARAT</td>\n",
              "      <td>Dosis 1</td>\n",
              "      <td>179</td>\n",
              "    </tr>\n",
              "    <tr>\n",
              "      <th>4</th>\n",
              "      <td>JAKARTA PUSAT</td>\n",
              "      <td>CEMPAKA PUTIH</td>\n",
              "      <td>CEMPAKA PUTIH TIMUR</td>\n",
              "      <td>Dosis 1</td>\n",
              "      <td>127</td>\n",
              "    </tr>\n",
              "  </tbody>\n",
              "</table>\n",
              "</div>"
            ],
            "text/plain": [
              "    wilayah_kota      kecamatan            kelurahan    dosis  jumlah_vaksin\n",
              "0  JAKARTA PUSAT    TANAH ABANG      BENDUNGAN HILIR  Dosis 1            118\n",
              "1  JAKARTA PUSAT          SENEN               BUNGUR  Dosis 1             75\n",
              "2  JAKARTA PUSAT      KEMAYORAN         CEMPAKA BARU  Dosis 1            132\n",
              "3  JAKARTA PUSAT  CEMPAKA PUTIH  CEMPAKA PUTIH BARAT  Dosis 1            179\n",
              "4  JAKARTA PUSAT  CEMPAKA PUTIH  CEMPAKA PUTIH TIMUR  Dosis 1            127"
            ]
          },
          "metadata": {},
          "execution_count": 8
        }
      ]
    },
    {
      "cell_type": "code",
      "metadata": {
        "colab": {
          "base_uri": "https://localhost:8080/",
          "height": 206
        },
        "id": "ZAowTenU8KL5",
        "outputId": "3595ccda-7ccf-4faf-90c5-84b3bab0df98"
      },
      "source": [
        "#Menggunakan encode untuk mengubah tipe data ke numerik\n",
        "\n",
        "kolom = list(df_copy.columns[:4])\n",
        "\n",
        "for col in kolom:\n",
        "  df_copy[col].replace(list(df_copy[col].unique()),\n",
        "                        [i for i in range(1,len(list(df_copy[col].unique())) + 1)],inplace = True)\n",
        "\n",
        "df_copy.head()"
      ],
      "execution_count": null,
      "outputs": [
        {
          "output_type": "execute_result",
          "data": {
            "text/html": [
              "<div>\n",
              "<style scoped>\n",
              "    .dataframe tbody tr th:only-of-type {\n",
              "        vertical-align: middle;\n",
              "    }\n",
              "\n",
              "    .dataframe tbody tr th {\n",
              "        vertical-align: top;\n",
              "    }\n",
              "\n",
              "    .dataframe thead th {\n",
              "        text-align: right;\n",
              "    }\n",
              "</style>\n",
              "<table border=\"1\" class=\"dataframe\">\n",
              "  <thead>\n",
              "    <tr style=\"text-align: right;\">\n",
              "      <th></th>\n",
              "      <th>wilayah_kota</th>\n",
              "      <th>kecamatan</th>\n",
              "      <th>kelurahan</th>\n",
              "      <th>dosis</th>\n",
              "      <th>jumlah_vaksin</th>\n",
              "    </tr>\n",
              "  </thead>\n",
              "  <tbody>\n",
              "    <tr>\n",
              "      <th>0</th>\n",
              "      <td>1</td>\n",
              "      <td>1</td>\n",
              "      <td>1</td>\n",
              "      <td>1</td>\n",
              "      <td>118</td>\n",
              "    </tr>\n",
              "    <tr>\n",
              "      <th>1</th>\n",
              "      <td>1</td>\n",
              "      <td>2</td>\n",
              "      <td>2</td>\n",
              "      <td>1</td>\n",
              "      <td>75</td>\n",
              "    </tr>\n",
              "    <tr>\n",
              "      <th>2</th>\n",
              "      <td>1</td>\n",
              "      <td>3</td>\n",
              "      <td>3</td>\n",
              "      <td>1</td>\n",
              "      <td>132</td>\n",
              "    </tr>\n",
              "    <tr>\n",
              "      <th>3</th>\n",
              "      <td>1</td>\n",
              "      <td>4</td>\n",
              "      <td>4</td>\n",
              "      <td>1</td>\n",
              "      <td>179</td>\n",
              "    </tr>\n",
              "    <tr>\n",
              "      <th>4</th>\n",
              "      <td>1</td>\n",
              "      <td>4</td>\n",
              "      <td>5</td>\n",
              "      <td>1</td>\n",
              "      <td>127</td>\n",
              "    </tr>\n",
              "  </tbody>\n",
              "</table>\n",
              "</div>"
            ],
            "text/plain": [
              "   wilayah_kota  kecamatan  kelurahan  dosis  jumlah_vaksin\n",
              "0             1          1          1      1            118\n",
              "1             1          2          2      1             75\n",
              "2             1          3          3      1            132\n",
              "3             1          4          4      1            179\n",
              "4             1          4          5      1            127"
            ]
          },
          "metadata": {},
          "execution_count": 9
        }
      ]
    },
    {
      "cell_type": "markdown",
      "metadata": {
        "id": "_qke_OOSIJJo"
      },
      "source": [
        "# **DATA EXPLORING**"
      ]
    },
    {
      "cell_type": "code",
      "metadata": {
        "colab": {
          "base_uri": "https://localhost:8080/",
          "height": 300
        },
        "id": "WR6BsanDM8go",
        "outputId": "291e44f9-51f5-45a7-e272-5142e43c1e26"
      },
      "source": [
        "#Melihat statistical description dari data\n",
        "\n",
        "df_copy.describe()"
      ],
      "execution_count": null,
      "outputs": [
        {
          "output_type": "execute_result",
          "data": {
            "text/html": [
              "<div>\n",
              "<style scoped>\n",
              "    .dataframe tbody tr th:only-of-type {\n",
              "        vertical-align: middle;\n",
              "    }\n",
              "\n",
              "    .dataframe tbody tr th {\n",
              "        vertical-align: top;\n",
              "    }\n",
              "\n",
              "    .dataframe thead th {\n",
              "        text-align: right;\n",
              "    }\n",
              "</style>\n",
              "<table border=\"1\" class=\"dataframe\">\n",
              "  <thead>\n",
              "    <tr style=\"text-align: right;\">\n",
              "      <th></th>\n",
              "      <th>wilayah_kota</th>\n",
              "      <th>kecamatan</th>\n",
              "      <th>kelurahan</th>\n",
              "      <th>dosis</th>\n",
              "      <th>jumlah_vaksin</th>\n",
              "    </tr>\n",
              "  </thead>\n",
              "  <tbody>\n",
              "    <tr>\n",
              "      <th>count</th>\n",
              "      <td>16020.000000</td>\n",
              "      <td>16020.000000</td>\n",
              "      <td>16020.000000</td>\n",
              "      <td>16020.000000</td>\n",
              "      <td>16020.000000</td>\n",
              "    </tr>\n",
              "    <tr>\n",
              "      <th>mean</th>\n",
              "      <td>3.352060</td>\n",
              "      <td>22.670412</td>\n",
              "      <td>134.000000</td>\n",
              "      <td>1.500000</td>\n",
              "      <td>129.603620</td>\n",
              "    </tr>\n",
              "    <tr>\n",
              "      <th>std</th>\n",
              "      <td>1.439076</td>\n",
              "      <td>12.245231</td>\n",
              "      <td>77.078126</td>\n",
              "      <td>0.500016</td>\n",
              "      <td>109.819491</td>\n",
              "    </tr>\n",
              "    <tr>\n",
              "      <th>min</th>\n",
              "      <td>1.000000</td>\n",
              "      <td>1.000000</td>\n",
              "      <td>1.000000</td>\n",
              "      <td>1.000000</td>\n",
              "      <td>0.000000</td>\n",
              "    </tr>\n",
              "    <tr>\n",
              "      <th>25%</th>\n",
              "      <td>2.000000</td>\n",
              "      <td>13.000000</td>\n",
              "      <td>67.000000</td>\n",
              "      <td>1.000000</td>\n",
              "      <td>52.000000</td>\n",
              "    </tr>\n",
              "    <tr>\n",
              "      <th>50%</th>\n",
              "      <td>4.000000</td>\n",
              "      <td>23.000000</td>\n",
              "      <td>134.000000</td>\n",
              "      <td>1.500000</td>\n",
              "      <td>97.000000</td>\n",
              "    </tr>\n",
              "    <tr>\n",
              "      <th>75%</th>\n",
              "      <td>5.000000</td>\n",
              "      <td>33.000000</td>\n",
              "      <td>201.000000</td>\n",
              "      <td>2.000000</td>\n",
              "      <td>182.000000</td>\n",
              "    </tr>\n",
              "    <tr>\n",
              "      <th>max</th>\n",
              "      <td>6.000000</td>\n",
              "      <td>44.000000</td>\n",
              "      <td>267.000000</td>\n",
              "      <td>2.000000</td>\n",
              "      <td>834.000000</td>\n",
              "    </tr>\n",
              "  </tbody>\n",
              "</table>\n",
              "</div>"
            ],
            "text/plain": [
              "       wilayah_kota     kecamatan     kelurahan         dosis  jumlah_vaksin\n",
              "count  16020.000000  16020.000000  16020.000000  16020.000000   16020.000000\n",
              "mean       3.352060     22.670412    134.000000      1.500000     129.603620\n",
              "std        1.439076     12.245231     77.078126      0.500016     109.819491\n",
              "min        1.000000      1.000000      1.000000      1.000000       0.000000\n",
              "25%        2.000000     13.000000     67.000000      1.000000      52.000000\n",
              "50%        4.000000     23.000000    134.000000      1.500000      97.000000\n",
              "75%        5.000000     33.000000    201.000000      2.000000     182.000000\n",
              "max        6.000000     44.000000    267.000000      2.000000     834.000000"
            ]
          },
          "metadata": {},
          "execution_count": 10
        }
      ]
    },
    {
      "cell_type": "code",
      "metadata": {
        "colab": {
          "base_uri": "https://localhost:8080/",
          "height": 237
        },
        "id": "cFJ1VoJ4ROmB",
        "outputId": "13cc973f-0f16-4a87-fce8-ec8bc2b2254b"
      },
      "source": [
        "#melihat statistika deskriptif data jumlah vaksin berdasarkan tanggal\n",
        "grp2= df.groupby('tanggal')['jumlah_vaksin'].describe()\n",
        "grp2.head()"
      ],
      "execution_count": null,
      "outputs": [
        {
          "output_type": "execute_result",
          "data": {
            "text/html": [
              "<div>\n",
              "<style scoped>\n",
              "    .dataframe tbody tr th:only-of-type {\n",
              "        vertical-align: middle;\n",
              "    }\n",
              "\n",
              "    .dataframe tbody tr th {\n",
              "        vertical-align: top;\n",
              "    }\n",
              "\n",
              "    .dataframe thead th {\n",
              "        text-align: right;\n",
              "    }\n",
              "</style>\n",
              "<table border=\"1\" class=\"dataframe\">\n",
              "  <thead>\n",
              "    <tr style=\"text-align: right;\">\n",
              "      <th></th>\n",
              "      <th>count</th>\n",
              "      <th>mean</th>\n",
              "      <th>std</th>\n",
              "      <th>min</th>\n",
              "      <th>25%</th>\n",
              "      <th>50%</th>\n",
              "      <th>75%</th>\n",
              "      <th>max</th>\n",
              "    </tr>\n",
              "    <tr>\n",
              "      <th>tanggal</th>\n",
              "      <th></th>\n",
              "      <th></th>\n",
              "      <th></th>\n",
              "      <th></th>\n",
              "      <th></th>\n",
              "      <th></th>\n",
              "      <th></th>\n",
              "      <th></th>\n",
              "    </tr>\n",
              "  </thead>\n",
              "  <tbody>\n",
              "    <tr>\n",
              "      <th>2021-07-01</th>\n",
              "      <td>534.0</td>\n",
              "      <td>87.803371</td>\n",
              "      <td>80.582150</td>\n",
              "      <td>0.0</td>\n",
              "      <td>30.00</td>\n",
              "      <td>62.0</td>\n",
              "      <td>127.00</td>\n",
              "      <td>487.0</td>\n",
              "    </tr>\n",
              "    <tr>\n",
              "      <th>2021-07-02</th>\n",
              "      <td>534.0</td>\n",
              "      <td>91.552434</td>\n",
              "      <td>83.391457</td>\n",
              "      <td>0.0</td>\n",
              "      <td>32.00</td>\n",
              "      <td>65.0</td>\n",
              "      <td>132.75</td>\n",
              "      <td>493.0</td>\n",
              "    </tr>\n",
              "    <tr>\n",
              "      <th>2021-07-03</th>\n",
              "      <td>534.0</td>\n",
              "      <td>93.445693</td>\n",
              "      <td>84.577727</td>\n",
              "      <td>0.0</td>\n",
              "      <td>33.00</td>\n",
              "      <td>67.0</td>\n",
              "      <td>134.75</td>\n",
              "      <td>511.0</td>\n",
              "    </tr>\n",
              "    <tr>\n",
              "      <th>2021-07-04</th>\n",
              "      <td>534.0</td>\n",
              "      <td>97.093633</td>\n",
              "      <td>87.869353</td>\n",
              "      <td>0.0</td>\n",
              "      <td>34.25</td>\n",
              "      <td>70.0</td>\n",
              "      <td>139.00</td>\n",
              "      <td>615.0</td>\n",
              "    </tr>\n",
              "    <tr>\n",
              "      <th>2021-07-05</th>\n",
              "      <td>534.0</td>\n",
              "      <td>97.754682</td>\n",
              "      <td>88.449866</td>\n",
              "      <td>0.0</td>\n",
              "      <td>35.00</td>\n",
              "      <td>70.0</td>\n",
              "      <td>139.75</td>\n",
              "      <td>616.0</td>\n",
              "    </tr>\n",
              "  </tbody>\n",
              "</table>\n",
              "</div>"
            ],
            "text/plain": [
              "            count       mean        std  min    25%   50%     75%    max\n",
              "tanggal                                                                 \n",
              "2021-07-01  534.0  87.803371  80.582150  0.0  30.00  62.0  127.00  487.0\n",
              "2021-07-02  534.0  91.552434  83.391457  0.0  32.00  65.0  132.75  493.0\n",
              "2021-07-03  534.0  93.445693  84.577727  0.0  33.00  67.0  134.75  511.0\n",
              "2021-07-04  534.0  97.093633  87.869353  0.0  34.25  70.0  139.00  615.0\n",
              "2021-07-05  534.0  97.754682  88.449866  0.0  35.00  70.0  139.75  616.0"
            ]
          },
          "metadata": {},
          "execution_count": 11
        }
      ]
    },
    {
      "cell_type": "code",
      "metadata": {
        "colab": {
          "base_uri": "https://localhost:8080/",
          "height": 334
        },
        "id": "avqP-YAbAKVs",
        "outputId": "688ce243-7ec4-4fba-a8f9-8d56ad53359f"
      },
      "source": [
        "#melihat univariate kolom wilayah_kota\n",
        "\n",
        "sns.countplot(df.wilayah_kota)\n",
        "plt.show()"
      ],
      "execution_count": null,
      "outputs": [
        {
          "output_type": "stream",
          "name": "stderr",
          "text": [
            "/usr/local/lib/python3.7/dist-packages/seaborn/_decorators.py:43: FutureWarning: Pass the following variable as a keyword arg: x. From version 0.12, the only valid positional argument will be `data`, and passing other arguments without an explicit keyword will result in an error or misinterpretation.\n",
            "  FutureWarning\n"
          ]
        },
        {
          "output_type": "display_data",
          "data": {
            "image/png": "[encoded data removed]",
            "text/plain": [
              "<Figure size 432x288 with 1 Axes>"
            ]
          },
          "metadata": {
            "needs_background": "light"
          }
        }
      ]
    },
    {
      "cell_type": "code",
      "metadata": {
        "colab": {
          "base_uri": "https://localhost:8080/"
        },
        "id": "8m_AXku9AKZJ",
        "outputId": "8dead2ac-34a3-4d1b-fa01-8edaf264618c"
      },
      "source": [
        "df.columns"
      ],
      "execution_count": null,
      "outputs": [
        {
          "output_type": "execute_result",
          "data": {
            "text/plain": [
              "Index(['wilayah_kota', 'kecamatan', 'kelurahan', 'dosis', 'jumlah_vaksin'], dtype='object')"
            ]
          },
          "metadata": {},
          "execution_count": 13
        }
      ]
    },
    {
      "cell_type": "code",
      "metadata": {
        "colab": {
          "base_uri": "https://localhost:8080/",
          "height": 333
        },
        "id": "UL3NxyftAKcz",
        "outputId": "8b914e43-f4ed-4626-a6ff-b8fa200e1535"
      },
      "source": [
        "#Melihat univariate kolom dosis\n",
        "sns.countplot(df.dosis)\n",
        "plt.show()"
      ],
      "execution_count": null,
      "outputs": [
        {
          "output_type": "stream",
          "name": "stderr",
          "text": [
            "/usr/local/lib/python3.7/dist-packages/seaborn/_decorators.py:43: FutureWarning: Pass the following variable as a keyword arg: x. From version 0.12, the only valid positional argument will be `data`, and passing other arguments without an explicit keyword will result in an error or misinterpretation.\n",
            "  FutureWarning\n"
          ]
        },
        {
          "output_type": "display_data",
          "data": {
            "image/png": "[encoded data removed]",
            "text/plain": [
              "<Figure size 432x288 with 1 Axes>"
            ]
          },
          "metadata": {
            "needs_background": "light"
          }
        }
      ]
    },
    {
      "cell_type": "code",
      "metadata": {
        "colab": {
          "base_uri": "https://localhost:8080/",
          "height": 305
        },
        "id": "UFF5LlQfROib",
        "outputId": "98f73c7d-f4b0-4b79-cbe9-86547e5574c4"
      },
      "source": [
        "#mengelompokan dataset berdasarkan tanggal dan wilayah kota membuat multiple line chart\n",
        "plt.clf()\n",
        "df.groupby(['tanggal','wilayah_kota'])['jumlah_vaksin'].sum().unstack().plot()\n",
        "plt.title('Jumlah Vaksin Harian', loc='center', pad=30, fontsize=20,color='black')\n",
        "plt.xlabel('Tanggal', fontsize=15)\n",
        "plt.ylabel('Total Vaksinasi', fontsize=15)\n",
        "plt.grid(color='darkgray', linestyle=':', linewidth=0.5)\n",
        "plt.ylim(ymin=0)\n",
        "plt.legend(loc='best', bbox_to_anchor=(0.5, -0.5), shadow=True, ncol=3,title='Wilayah Kota', fontsize=9, title_fontsize=11)\n",
        "plt.gcf().set_size_inches(10,5)\n",
        "plt.tight_layout()\n",
        "plt.show()"
      ],
      "execution_count": null,
      "outputs": [
        {
          "output_type": "display_data",
          "data": {
            "text/plain": [
              "<Figure size 432x288 with 0 Axes>"
            ]
          },
          "metadata": {}
        },
        {
          "output_type": "display_data",
          "data": {
            "image/png": "[encoded data removed]",
            "text/plain": [
              "<Figure size 720x360 with 1 Axes>"
            ]
          },
          "metadata": {
            "needs_background": "light"
          }
        }
      ]
    },
    {
      "cell_type": "code",
      "metadata": {
        "colab": {
          "base_uri": "https://localhost:8080/",
          "height": 237
        },
        "id": "uNf0t2AHgRlu",
        "outputId": "2004420e-a7fd-4fa7-e82f-ca0124ee5303"
      },
      "source": [
        "#df baru bernama df_pekan4, yang menunjukan jumlah vaksin\n",
        "# di minggu ke 4\n",
        "\n",
        "df_jaktim_pekan4 = df[(df['wilayah_kota'] == 'JAKARTA TIMUR') & (df.index >= '2021-07-24')]\n",
        "\n",
        "df_jaktim_pekan4.head()"
      ],
      "execution_count": null,
      "outputs": [
        {
          "output_type": "execute_result",
          "data": {
            "text/html": [
              "<div>\n",
              "<style scoped>\n",
              "    .dataframe tbody tr th:only-of-type {\n",
              "        vertical-align: middle;\n",
              "    }\n",
              "\n",
              "    .dataframe tbody tr th {\n",
              "        vertical-align: top;\n",
              "    }\n",
              "\n",
              "    .dataframe thead th {\n",
              "        text-align: right;\n",
              "    }\n",
              "</style>\n",
              "<table border=\"1\" class=\"dataframe\">\n",
              "  <thead>\n",
              "    <tr style=\"text-align: right;\">\n",
              "      <th></th>\n",
              "      <th>wilayah_kota</th>\n",
              "      <th>kecamatan</th>\n",
              "      <th>kelurahan</th>\n",
              "      <th>dosis</th>\n",
              "      <th>jumlah_vaksin</th>\n",
              "    </tr>\n",
              "    <tr>\n",
              "      <th>tanggal</th>\n",
              "      <th></th>\n",
              "      <th></th>\n",
              "      <th></th>\n",
              "      <th></th>\n",
              "      <th></th>\n",
              "    </tr>\n",
              "  </thead>\n",
              "  <tbody>\n",
              "    <tr>\n",
              "      <th>2021-07-24</th>\n",
              "      <td>JAKARTA TIMUR</td>\n",
              "      <td>KRAMAT JATI</td>\n",
              "      <td>BALE KAMBANG</td>\n",
              "      <td>Dosis 1</td>\n",
              "      <td>157</td>\n",
              "    </tr>\n",
              "    <tr>\n",
              "      <th>2021-07-24</th>\n",
              "      <td>JAKARTA TIMUR</td>\n",
              "      <td>JATINEGARA</td>\n",
              "      <td>BALI MESTER</td>\n",
              "      <td>Dosis 1</td>\n",
              "      <td>71</td>\n",
              "    </tr>\n",
              "    <tr>\n",
              "      <th>2021-07-24</th>\n",
              "      <td>JAKARTA TIMUR</td>\n",
              "      <td>CIPAYUNG</td>\n",
              "      <td>BAMBU APUS</td>\n",
              "      <td>Dosis 1</td>\n",
              "      <td>116</td>\n",
              "    </tr>\n",
              "    <tr>\n",
              "      <th>2021-07-24</th>\n",
              "      <td>JAKARTA TIMUR</td>\n",
              "      <td>PASAR REBO</td>\n",
              "      <td>BARU</td>\n",
              "      <td>Dosis 1</td>\n",
              "      <td>109</td>\n",
              "    </tr>\n",
              "    <tr>\n",
              "      <th>2021-07-24</th>\n",
              "      <td>JAKARTA TIMUR</td>\n",
              "      <td>KRAMAT JATI</td>\n",
              "      <td>BATU AMPAR</td>\n",
              "      <td>Dosis 1</td>\n",
              "      <td>304</td>\n",
              "    </tr>\n",
              "  </tbody>\n",
              "</table>\n",
              "</div>"
            ],
            "text/plain": [
              "             wilayah_kota    kecamatan     kelurahan    dosis  jumlah_vaksin\n",
              "tanggal                                                                     \n",
              "2021-07-24  JAKARTA TIMUR  KRAMAT JATI  BALE KAMBANG  Dosis 1            157\n",
              "2021-07-24  JAKARTA TIMUR   JATINEGARA   BALI MESTER  Dosis 1             71\n",
              "2021-07-24  JAKARTA TIMUR     CIPAYUNG    BAMBU APUS  Dosis 1            116\n",
              "2021-07-24  JAKARTA TIMUR   PASAR REBO          BARU  Dosis 1            109\n",
              "2021-07-24  JAKARTA TIMUR  KRAMAT JATI    BATU AMPAR  Dosis 1            304"
            ]
          },
          "metadata": {},
          "execution_count": 16
        }
      ]
    },
    {
      "cell_type": "code",
      "metadata": {
        "colab": {
          "base_uri": "https://localhost:8080/",
          "height": 402
        },
        "id": "6q9ZtUxFgRpN",
        "outputId": "f66f00ca-02d6-4839-b201-4cf896808d34"
      },
      "source": [
        "vaksin_jaktim_per_kecamatan = df_jaktim_pekan4.groupby('kecamatan')['jumlah_vaksin'].sum().reset_index()\n",
        "plt.figure(figsize=(6,6))\n",
        "plt.pie(vaksin_jaktim_per_kecamatan['jumlah_vaksin'], labels = vaksin_jaktim_per_kecamatan['kecamatan'], autopct='%1.2f%%')\n",
        "plt.title('Vaksin per Kecamatan di Jakarta Timur', loc='center', pad = 30, fontsize=20, color='black')\n",
        "plt.show()"
      ],
      "execution_count": null,
      "outputs": [
        {
          "output_type": "display_data",
          "data": {
            "image/png": "[encoded data removed]",
            "text/plain": [
              "<Figure size 432x432 with 1 Axes>"
            ]
          },
          "metadata": {}
        }
      ]
    },
    {
      "cell_type": "code",
      "metadata": {
        "colab": {
          "base_uri": "https://localhost:8080/",
          "height": 940
        },
        "id": "9yDrF2pfprxO",
        "outputId": "110891c7-c97b-4368-eddd-db212595e87e"
      },
      "source": [
        "#Mengetahui nilai korelasi dari independent variable dan dependent variable.\n",
        "plt.figure(figsize=(18,16))\n",
        "sns.heatmap(df_copy.corr(method='spearman').abs(), annot=True)"
      ],
      "execution_count": null,
      "outputs": [
        {
          "output_type": "execute_result",
          "data": {
            "text/plain": [
              "<matplotlib.axes._subplots.AxesSubplot at 0x7ffa4fee5450>"
            ]
          },
          "metadata": {},
          "execution_count": 18
        },
        {
          "output_type": "display_data",
          "data": {
            "image/png": "[encoded data removed]",
            "text/plain": [
              "<Figure size 1296x1152 with 2 Axes>"
            ]
          },
          "metadata": {
            "needs_background": "light"
          }
        }
      ]
    },
    {
      "cell_type": "markdown",
      "metadata": {
        "id": "4jGVaId0rK5s"
      },
      "source": [
        "# **MODELING**"
      ]
    },
    {
      "cell_type": "markdown",
      "metadata": {
        "id": "NpjkZOapnzic"
      },
      "source": [
        "## **Data Spliting**"
      ]
    },
    {
      "cell_type": "code",
      "metadata": {
        "id": "mG0elnBBpIsY"
      },
      "source": [
        "x = df_copy.drop(columns='jumlah_vaksin').values\n",
        "y = df_copy['jumlah_vaksin'].values"
      ],
      "execution_count": null,
      "outputs": []
    },
    {
      "cell_type": "code",
      "metadata": {
        "colab": {
          "base_uri": "https://localhost:8080/"
        },
        "id": "T58lUdHjgRta",
        "outputId": "b35f839d-d9c7-4cdb-d953-a06151dfa400"
      },
      "source": [
        "x"
      ],
      "execution_count": null,
      "outputs": [
        {
          "output_type": "execute_result",
          "data": {
            "text/plain": [
              "array([[  1,   1,   1,   1],\n",
              "       [  1,   2,   2,   1],\n",
              "       [  1,   3,   3,   1],\n",
              "       ...,\n",
              "       [  6,  44, 265,   2],\n",
              "       [  6,  44, 266,   2],\n",
              "       [  6,  44, 267,   2]])"
            ]
          },
          "metadata": {},
          "execution_count": 20
        }
      ]
    },
    {
      "cell_type": "code",
      "metadata": {
        "colab": {
          "base_uri": "https://localhost:8080/"
        },
        "id": "7Bl7sTSdgRxA",
        "outputId": "5d19f5fc-a968-452d-dcef-66f131bc0149"
      },
      "source": [
        "y"
      ],
      "execution_count": null,
      "outputs": [
        {
          "output_type": "execute_result",
          "data": {
            "text/plain": [
              "array([118,  75, 132, ...,   0,   4,   3])"
            ]
          },
          "metadata": {},
          "execution_count": 21
        }
      ]
    },
    {
      "cell_type": "code",
      "metadata": {
        "id": "1fMS6DJPrffP"
      },
      "source": [
        "#Split data menjadi train dan test dimana test dataset sebanyak 30%\n",
        "x_train, x_test, y_train, y_test = train_test_split(x,y, test_size=0.15, random_state=42)"
      ],
      "execution_count": null,
      "outputs": []
    },
    {
      "cell_type": "markdown",
      "metadata": {
        "id": "4DmBi1xRy2wA"
      },
      "source": [
        "## **LINEAR REGRESSION**"
      ]
    },
    {
      "cell_type": "code",
      "metadata": {
        "colab": {
          "base_uri": "https://localhost:8080/"
        },
        "id": "1joUUCE3rfi0",
        "outputId": "2edd772e-ce21-4127-9b69-b37fbf97024e"
      },
      "source": [
        "#buat model linear regression\n",
        "lg = LinearRegression()\n",
        "\n",
        "#train model yang sudah dibuat\n",
        "lg.fit(x_train, y_train)\n",
        "\n",
        "#cari tau nilai slope/koefisien dan intercept (b)\n",
        "\n",
        "print(lg.coef_)\n",
        "print(lg.intercept_)"
      ],
      "execution_count": null,
      "outputs": [
        {
          "output_type": "stream",
          "name": "stdout",
          "text": [
            "[-2.14107800e+01  4.27578353e+00 -1.14878109e-02 -8.51972931e+01]\n",
            "233.93377499327002\n"
          ]
        }
      ]
    },
    {
      "cell_type": "code",
      "metadata": {
        "colab": {
          "base_uri": "https://localhost:8080/",
          "height": 174
        },
        "id": "tidDWDsysfG3",
        "outputId": "4e7dfd90-3731-4a7e-84d9-47a87bf3758d"
      },
      "source": [
        "pd.DataFrame({'Features':df_copy.columns[:4].to_list(),\n",
        "              'coef_value':lg.coef_})"
      ],
      "execution_count": null,
      "outputs": [
        {
          "output_type": "execute_result",
          "data": {
            "text/html": [
              "<div>\n",
              "<style scoped>\n",
              "    .dataframe tbody tr th:only-of-type {\n",
              "        vertical-align: middle;\n",
              "    }\n",
              "\n",
              "    .dataframe tbody tr th {\n",
              "        vertical-align: top;\n",
              "    }\n",
              "\n",
              "    .dataframe thead th {\n",
              "        text-align: right;\n",
              "    }\n",
              "</style>\n",
              "<table border=\"1\" class=\"dataframe\">\n",
              "  <thead>\n",
              "    <tr style=\"text-align: right;\">\n",
              "      <th></th>\n",
              "      <th>Features</th>\n",
              "      <th>coef_value</th>\n",
              "    </tr>\n",
              "  </thead>\n",
              "  <tbody>\n",
              "    <tr>\n",
              "      <th>0</th>\n",
              "      <td>wilayah_kota</td>\n",
              "      <td>-21.410780</td>\n",
              "    </tr>\n",
              "    <tr>\n",
              "      <th>1</th>\n",
              "      <td>kecamatan</td>\n",
              "      <td>4.275784</td>\n",
              "    </tr>\n",
              "    <tr>\n",
              "      <th>2</th>\n",
              "      <td>kelurahan</td>\n",
              "      <td>-0.011488</td>\n",
              "    </tr>\n",
              "    <tr>\n",
              "      <th>3</th>\n",
              "      <td>dosis</td>\n",
              "      <td>-85.197293</td>\n",
              "    </tr>\n",
              "  </tbody>\n",
              "</table>\n",
              "</div>"
            ],
            "text/plain": [
              "       Features  coef_value\n",
              "0  wilayah_kota  -21.410780\n",
              "1     kecamatan    4.275784\n",
              "2     kelurahan   -0.011488\n",
              "3         dosis  -85.197293"
            ]
          },
          "metadata": {},
          "execution_count": 24
        }
      ]
    },
    {
      "cell_type": "markdown",
      "metadata": {
        "id": "FwnJBRIFtD9p"
      },
      "source": [
        "Dari nilai m dan b diatas, kalau dimasukan ke dalam rumus menjadi:\n",
        "Y = -20.812311x1 + 4.317627x2  - 0.037430x3 - 84.726874x4"
      ]
    },
    {
      "cell_type": "code",
      "metadata": {
        "colab": {
          "base_uri": "https://localhost:8080/"
        },
        "id": "a0RGHJddtDAJ",
        "outputId": "ad18a3f4-cb2a-4dbc-d42f-9a563c1e309a"
      },
      "source": [
        "#Keenam, cari tahu accuracy score dari model menggunakan testing data yang sudah displit.\n",
        "lg.score(x_test, y_test)"
      ],
      "execution_count": null,
      "outputs": [
        {
          "output_type": "execute_result",
          "data": {
            "text/plain": [
              "0.1912914042703041"
            ]
          },
          "metadata": {},
          "execution_count": 25
        }
      ]
    },
    {
      "cell_type": "markdown",
      "metadata": {
        "id": "wEDwL2Jsy6UW"
      },
      "source": [
        "## **KNeighborsClassifier**"
      ]
    },
    {
      "cell_type": "code",
      "metadata": {
        "colab": {
          "base_uri": "https://localhost:8080/"
        },
        "id": "vdTmNL7Gvkjq",
        "outputId": "caba6f4f-f64a-4021-aa1b-097960c9581b"
      },
      "source": [
        "from sklearn.neighbors import KNeighborsClassifier\n",
        "k = 3\n",
        "\n",
        "knn = KNeighborsClassifier(n_neighbors = k).fit(x_train, y_train)\n",
        "knn"
      ],
      "execution_count": null,
      "outputs": [
        {
          "output_type": "execute_result",
          "data": {
            "text/plain": [
              "KNeighborsClassifier(algorithm='auto', leaf_size=30, metric='minkowski',\n",
              "                     metric_params=None, n_jobs=None, n_neighbors=3, p=2,\n",
              "                     weights='uniform')"
            ]
          },
          "metadata": {},
          "execution_count": 26
        }
      ]
    },
    {
      "cell_type": "code",
      "metadata": {
        "colab": {
          "base_uri": "https://localhost:8080/"
        },
        "id": "D7XVLfCsx5ku",
        "outputId": "eccf6f57-329a-4b71-caed-9bf1590e249a"
      },
      "source": [
        "from sklearn import metrics\n",
        "\n",
        "y_predict = knn.predict(x_test)\n",
        "print(\"Test set Accuracy : \", metrics.accuracy_score(y_test, y_predict))"
      ],
      "execution_count": null,
      "outputs": [
        {
          "output_type": "stream",
          "name": "stdout",
          "text": [
            "Test set Accuracy :  0.09737827715355805\n"
          ]
        }
      ]
    },
    {
      "cell_type": "code",
      "metadata": {
        "colab": {
          "base_uri": "https://localhost:8080/"
        },
        "id": "ENQcHzR-x923",
        "outputId": "43269846-3259-41b2-8387-8e71faa42f80"
      },
      "source": [
        "Ks = 50\n",
        "mean_acc = np.zeros((Ks))\n",
        "\n",
        "for n in range(1,Ks+1):\n",
        "  neigh = KNeighborsClassifier(n_neighbors= n).fit(x_train, y_train)\n",
        "  y_predict = neigh.predict(x_test)\n",
        "  mean_acc[n-1] = metrics.accuracy_score(y_test, y_predict)\n",
        "\n",
        "\n",
        "mean_acc"
      ],
      "execution_count": null,
      "outputs": [
        {
          "output_type": "execute_result",
          "data": {
            "text/plain": [
              "array([0.08739076, 0.09030379, 0.09737828, 0.09821057, 0.10153974,\n",
              "       0.1002913 , 0.10819809, 0.1127757 , 0.11652102, 0.12317936,\n",
              "       0.12734082, 0.13316687, 0.1360799 , 0.1414898 , 0.14898044,\n",
              "       0.14357054, 0.14606742, 0.15272576, 0.15189347, 0.15106117,\n",
              "       0.15355805, 0.15022888, 0.14856429, 0.15022888, 0.15272576,\n",
              "       0.15355805, 0.15563878, 0.15272576, 0.15147732, 0.15106117,\n",
              "       0.14814815, 0.14440283, 0.14606742, 0.14440283, 0.14357054,\n",
              "       0.1423221 , 0.14065751, 0.13774449, 0.13774449, 0.13399917,\n",
              "       0.13399917, 0.13150229, 0.12567624, 0.12234707, 0.12151477,\n",
              "       0.11652102, 0.10611735, 0.10153974, 0.09945901, 0.09654598])"
            ]
          },
          "metadata": {},
          "execution_count": 28
        }
      ]
    },
    {
      "cell_type": "code",
      "metadata": {
        "colab": {
          "base_uri": "https://localhost:8080/"
        },
        "id": "gdMtpLn-yDAj",
        "outputId": "f64a9b8a-e537-4811-c191-8cb4fee6d92e"
      },
      "source": [
        "print(\"The best accuracy was with \", mean_acc.max(), \"with k=\", mean_acc.argmax()+1)"
      ],
      "execution_count": null,
      "outputs": [
        {
          "output_type": "stream",
          "name": "stdout",
          "text": [
            "The best accuracy was with  0.155638784852268 with k= 27\n"
          ]
        }
      ]
    },
    {
      "cell_type": "markdown",
      "metadata": {
        "id": "QOs5WN7OzAPl"
      },
      "source": [
        "## **KMEANS**"
      ]
    },
    {
      "cell_type": "code",
      "metadata": {
        "colab": {
          "base_uri": "https://localhost:8080/"
        },
        "id": "eKR6xqYkyPze",
        "outputId": "7770aecc-f6d4-4111-8cd7-5928ff43768c"
      },
      "source": [
        "from sklearn.cluster import KMeans\n",
        "kmeans = KMeans(n_clusters=5)\n",
        "kmeans.fit(x)"
      ],
      "execution_count": null,
      "outputs": [
        {
          "output_type": "execute_result",
          "data": {
            "text/plain": [
              "KMeans(algorithm='auto', copy_x=True, init='k-means++', max_iter=300,\n",
              "       n_clusters=5, n_init=10, n_jobs=None, precompute_distances='auto',\n",
              "       random_state=None, tol=0.0001, verbose=0)"
            ]
          },
          "metadata": {},
          "execution_count": 30
        }
      ]
    },
    {
      "cell_type": "code",
      "metadata": {
        "colab": {
          "base_uri": "https://localhost:8080/"
        },
        "id": "jJFV6kSLzNLL",
        "outputId": "f05c62f4-79b1-45d8-e060-c6c1b2f40e99"
      },
      "source": [
        "print(kmeans.cluster_centers_)"
      ],
      "execution_count": null,
      "outputs": [
        {
          "output_type": "stream",
          "name": "stdout",
          "text": [
            "[[  1.10204082   4.7755102   25.           1.5       ]\n",
            " [  4.26785714  29.51785714 183.5          1.5       ]\n",
            " [  2.5         14.63461538  75.5          1.5       ]\n",
            " [  5.10714286  38.58928571 239.5          1.5       ]\n",
            " [  3.44444444  23.03703704 128.5          1.5       ]]\n"
          ]
        }
      ]
    },
    {
      "cell_type": "code",
      "metadata": {
        "colab": {
          "base_uri": "https://localhost:8080/"
        },
        "id": "NkYRRnWhzXZv",
        "outputId": "c658e1d7-ce07-4bfb-ca5a-9c8d9c6499c1"
      },
      "source": [
        "print(kmeans.labels_)"
      ],
      "execution_count": null,
      "outputs": [
        {
          "output_type": "stream",
          "name": "stdout",
          "text": [
            "[0 0 0 ... 3 3 3]\n"
          ]
        }
      ]
    },
    {
      "cell_type": "markdown",
      "metadata": {
        "id": "7-Enq9SQ6gHX"
      },
      "source": [
        "# **DECISSION TREE**"
      ]
    },
    {
      "cell_type": "code",
      "metadata": {
        "id": "kfGfocIqzbQ0"
      },
      "source": [
        "\n",
        "from sklearn.tree import DecisionTreeClassifier \n",
        "# Create Decision Tree classifer object\n",
        "clf = DecisionTreeClassifier()\n",
        "\n",
        "# Train Decision Tree Classifer\n",
        "clf = clf.fit(x_train,y_train)\n",
        "\n",
        "#Predict the response for test dataset\n",
        "y_pred = clf.predict(x_test)"
      ],
      "execution_count": null,
      "outputs": []
    },
    {
      "cell_type": "code",
      "metadata": {
        "id": "wU9N46Sqzf_b",
        "colab": {
          "base_uri": "https://localhost:8080/"
        },
        "outputId": "27d12cc9-a71e-4748-8627-697332d70b96"
      },
      "source": [
        "# Model Accuracy, how often is the classifier correct?\n",
        "print(\"Accuracy:\",metrics.accuracy_score(y_test, y_pred))"
      ],
      "execution_count": null,
      "outputs": [
        {
          "output_type": "stream",
          "name": "stdout",
          "text": [
            "Accuracy: 0.155638784852268\n"
          ]
        }
      ]
    },
    {
      "cell_type": "code",
      "metadata": {
        "id": "x8IzFZSF6sl6"
      },
      "source": [
        ""
      ],
      "execution_count": null,
      "outputs": []
    }
  ]
}